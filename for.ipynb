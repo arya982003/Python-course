{
 "cells": [
  {
   "cell_type": "code",
   "execution_count": 2,
   "source": [
    "fruits=['apple','banana','lemon']\r\n",
    "for item in fruits:\r\n",
    "    print('i have ',item)"
   ],
   "outputs": [
    {
     "output_type": "stream",
     "name": "stdout",
     "text": [
      "i have  apple\n",
      "i have  banana\n",
      "i have  lemon\n"
     ]
    }
   ],
   "metadata": {}
  },
  {
   "cell_type": "code",
   "execution_count": null,
   "source": [
    "x='arya sharma'\r\n",
    "for char in x:\r\n",
    "    print(char,end='')"
   ],
   "outputs": [],
   "metadata": {}
  },
  {
   "cell_type": "code",
   "execution_count": 2,
   "source": [
    "for i in range(5,20):\r\n",
    "    print(i,end=' ')"
   ],
   "outputs": [
    {
     "output_type": "stream",
     "name": "stdout",
     "text": [
      "5 6 7 8 9 10 11 12 13 14 15 16 17 18 19 "
     ]
    }
   ],
   "metadata": {}
  },
  {
   "cell_type": "code",
   "execution_count": 3,
   "source": [
    "for i in range(3,30,3):\r\n",
    "    print(i,end=' ')"
   ],
   "outputs": [
    {
     "output_type": "stream",
     "name": "stdout",
     "text": [
      "3 6 9 12 15 18 21 24 27 "
     ]
    }
   ],
   "metadata": {}
  },
  {
   "cell_type": "code",
   "execution_count": 4,
   "source": [
    "for i in range(10,0,-1):\r\n",
    "    print(i,end=' ')"
   ],
   "outputs": [
    {
     "output_type": "stream",
     "name": "stdout",
     "text": [
      "10 9 8 7 6 5 4 3 2 1 "
     ]
    }
   ],
   "metadata": {}
  },
  {
   "cell_type": "code",
   "execution_count": null,
   "source": [
    "for i in range(10):\r\n",
    "    print(\"\")"
   ],
   "outputs": [],
   "metadata": {}
  },
  {
   "cell_type": "code",
   "execution_count": 5,
   "source": [
    "sentence='the lazy day'\r\n",
    "for i ,v in enumerate(sentence):\r\n",
    "    print(f'{i} {v}')"
   ],
   "outputs": [
    {
     "output_type": "stream",
     "name": "stdout",
     "text": [
      "0 t\n",
      "1 h\n",
      "2 e\n",
      "3  \n",
      "4 l\n",
      "5 a\n",
      "6 z\n",
      "7 y\n",
      "8  \n",
      "9 d\n",
      "10 a\n",
      "11 y\n"
     ]
    }
   ],
   "metadata": {}
  },
  {
   "cell_type": "code",
   "execution_count": 7,
   "source": [
    "numbers={11,22,33,44,55,99,77}\r\n",
    "for id,num in enumerate(numbers):\r\n",
    "    print(f'{id} {num}')"
   ],
   "outputs": [
    {
     "output_type": "stream",
     "name": "stdout",
     "text": [
      "0 33\n",
      "1 99\n",
      "2 22\n",
      "3 55\n",
      "4 11\n",
      "5 44\n",
      "6 77\n"
     ]
    }
   ],
   "metadata": {}
  },
  {
   "cell_type": "code",
   "execution_count": 9,
   "source": [
    "name=['alex','jain','kohli']\r\n",
    "for id in enumerate(name):\r\n",
    "    print(f'{id}->{name}')"
   ],
   "outputs": [
    {
     "output_type": "stream",
     "name": "stdout",
     "text": [
      "(0, 'alex')->['alex', 'jain', 'kohli']\n",
      "(1, 'jain')->['alex', 'jain', 'kohli']\n",
      "(2, 'kohli')->['alex', 'jain', 'kohli']\n"
     ]
    }
   ],
   "metadata": {}
  },
  {
   "cell_type": "code",
   "execution_count": 10,
   "source": [
    "x=[2,3,8,4,6,7,6,44,88,22,77]\r\n",
    "y=[6,55,44,88,11,333,777,5555]\r\n",
    "for i,j in zip(x,y):\r\n",
    "    print(f'{i}+{j}={i+j}')"
   ],
   "outputs": [
    {
     "output_type": "stream",
     "name": "stdout",
     "text": [
      "2+6=8\n",
      "3+55=58\n",
      "8+44=52\n",
      "4+88=92\n",
      "6+11=17\n",
      "7+333=340\n",
      "6+777=783\n",
      "44+5555=5599\n"
     ]
    }
   ],
   "metadata": {}
  },
  {
   "cell_type": "code",
   "execution_count": 11,
   "source": [
    "names=['akex','Bob','cendy','halakat']\r\n",
    "age=[20,30,40]\r\n",
    "colors=['red','blue']\r\n",
    "for n,a,c in zip (name,age,colors):\r\n",
    "    print(f'{n} is {a}years old and has {c} eyes')"
   ],
   "outputs": [
    {
     "output_type": "stream",
     "name": "stdout",
     "text": [
      "alex is 20years old and has red eyes\n",
      "jain is 30years old and has blue eyes\n"
     ]
    }
   ],
   "metadata": {}
  },
  {
   "cell_type": "code",
   "execution_count": null,
   "source": [],
   "outputs": [],
   "metadata": {}
  },
  {
   "cell_type": "markdown",
   "source": [
    "break and continue"
   ],
   "metadata": {}
  },
  {
   "cell_type": "code",
   "execution_count": 6,
   "source": [
    "x=[1,2,0,3,4,5,6,7,55,33,44,666,111,22222,888,]\r\n",
    "for i in x:\r\n",
    "    if i==0:\r\n",
    "        print('zero found terminating loop')\r\n",
    "        break\r\n",
    "    print(i,end=' ')"
   ],
   "outputs": [
    {
     "output_type": "stream",
     "name": "stdout",
     "text": [
      "1 2 zero found terminating loop\n",
      "3 4 5 6 7 55 33 44 666 111 22222 888 "
     ]
    }
   ],
   "metadata": {}
  },
  {
   "cell_type": "code",
   "execution_count": 7,
   "source": [
    "x=[1,2,0,3,4,5,6,7,55,33,44,666,111,22222,888,]\r\n",
    "for i in x:\r\n",
    "    if i==0:\r\n",
    "        continue\r\n",
    "    print(i,end=' ')"
   ],
   "outputs": [
    {
     "output_type": "stream",
     "name": "stdout",
     "text": [
      "1 2 3 4 5 6 7 55 33 44 666 111 22222 888 "
     ]
    }
   ],
   "metadata": {}
  },
  {
   "cell_type": "code",
   "execution_count": 8,
   "source": [
    "for i in x:\r\n",
    "    if i !=0:\r\n",
    "        print(i,end=' ')"
   ],
   "outputs": [
    {
     "output_type": "stream",
     "name": "stdout",
     "text": [
      "1 2 3 4 5 6 7 55 33 44 666 111 22222 888 "
     ]
    }
   ],
   "metadata": {}
  },
  {
   "cell_type": "code",
   "execution_count": 9,
   "source": [
    "counter=0\r\n",
    "for i in range(1,6):\r\n",
    "    pwd=input('enter password')\r\n",
    "    if pwd=='123':\r\n",
    "        print('password accepted')\r\n",
    "        break\r\n",
    "    counter+=1\r\n",
    "    print('wrong password,plz try again')\r\n",
    "if counter==5:\r\n",
    "        print('password denied,u are locked out')"
   ],
   "outputs": [
    {
     "output_type": "stream",
     "name": "stdout",
     "text": [
      "wrong password,plz try again\n",
      "wrong password,plz try again\n",
      "wrong password,plz try again\n",
      "wrong password,plz try again\n",
      "wrong password,plz try again\n",
      "password denied,u are locked out\n"
     ]
    }
   ],
   "metadata": {}
  },
  {
   "cell_type": "code",
   "execution_count": 11,
   "source": [
    "for i in range(5):\r\n",
    "    print(i,end=' ')\r\n",
    "    if i==2:\r\n",
    "        break\r\n",
    "else:\r\n",
    "    print('loop complete')"
   ],
   "outputs": [
    {
     "output_type": "stream",
     "name": "stdout",
     "text": [
      "0 1 2 "
     ]
    }
   ],
   "metadata": {}
  },
  {
   "cell_type": "code",
   "execution_count": 12,
   "source": [
    "for i in range(1,6):\r\n",
    "    pwd=input('enter password')\r\n",
    "    if pwd=='123':\r\n",
    "        print('password accepted')\r\n",
    "        break\r\n",
    "    print('wrong password,try again')\r\n",
    "else:\r\n",
    "    print('password denied,u r locked out')"
   ],
   "outputs": [
    {
     "output_type": "stream",
     "name": "stdout",
     "text": [
      "password accepted\n"
     ]
    }
   ],
   "metadata": {}
  },
  {
   "cell_type": "code",
   "execution_count": 14,
   "source": [
    "n=int(input('enter a number'))\r\n",
    "for i in range(2,n):\r\n",
    "    if n%i ==0:\r\n",
    "        print('not prime number')\r\n",
    "        break\r\n",
    "else:\r\n",
    "     print('prime number')"
   ],
   "outputs": [
    {
     "output_type": "stream",
     "name": "stdout",
     "text": [
      "prime number\n"
     ]
    }
   ],
   "metadata": {}
  },
  {
   "cell_type": "code",
   "execution_count": 16,
   "source": [
    "n=10\r\n",
    "sum=0\r\n",
    "i=0\r\n",
    "while i<=n:\r\n",
    "    sum+=i\r\n",
    "    i+=1\r\n",
    "print('the sum is ',sum)"
   ],
   "outputs": [
    {
     "output_type": "stream",
     "name": "stdout",
     "text": [
      "the sum is  55\n"
     ]
    }
   ],
   "metadata": {}
  },
  {
   "cell_type": "code",
   "execution_count": 19,
   "source": [
    "x=1\r\n",
    "while x<5:\r\n",
    "    print('run')\r\n",
    "    x+=1\r\n",
    "print('stop')"
   ],
   "outputs": [
    {
     "output_type": "stream",
     "name": "stdout",
     "text": [
      "run\n",
      "run\n",
      "run\n",
      "run\n",
      "stop\n"
     ]
    }
   ],
   "metadata": {}
  },
  {
   "cell_type": "code",
   "execution_count": 20,
   "source": [
    "n=6\r\n",
    "i=1\r\n",
    "sum=0\r\n",
    "while i<=n:\r\n",
    "    sum+=i\r\n",
    "    i+=1\r\n",
    "    print(sum)"
   ],
   "outputs": [
    {
     "output_type": "stream",
     "name": "stdout",
     "text": [
      "1\n",
      "3\n",
      "6\n",
      "10\n",
      "15\n",
      "21\n"
     ]
    }
   ],
   "metadata": {}
  },
  {
   "cell_type": "code",
   "execution_count": 22,
   "source": [
    "while input('do u want to fill the details')=='yes':\r\n",
    "    name=input('enter a name')\r\n",
    "    age=int(input('enter age'))\r\n",
    "    print(f'{name} is {age} year old')"
   ],
   "outputs": [
    {
     "output_type": "stream",
     "name": "stdout",
     "text": [
      "aryan is 21 year old\n",
      "artharv is 20 year old\n"
     ]
    }
   ],
   "metadata": {}
  },
  {
   "cell_type": "code",
   "execution_count": null,
   "source": [
    "while True:\r\n",
    "    print('select task 1.sleep,2.eat,3.work,4.play,5.quit')\r\n",
    "    if"
   ],
   "outputs": [],
   "metadata": {}
  },
  {
   "cell_type": "code",
   "execution_count": 6,
   "source": [
    "#assignment question\r\n",
    "n=100\r\n",
    "count=0\r\n",
    "for i in range(2,n+1):\r\n",
    "    j=2\r\n",
    "    for j in range(2,i):\r\n",
    "\r\n",
    "         if i%j ==0:\r\n",
    "             j=i\r\n",
    "             break\r\n",
    "    if j is not i:\r\n",
    "        count+=i\r\n",
    "print(count)\r\n",
    "\r\n"
   ],
   "outputs": [
    {
     "output_type": "stream",
     "name": "stdout",
     "text": [
      "1058\n"
     ]
    }
   ],
   "metadata": {}
  },
  {
   "cell_type": "code",
   "execution_count": 10,
   "source": [
    "# 2.armstrong number\r\n",
    "sum=0\r\n",
    "n=int(input('enter a number'))\r\n",
    "temp=n\r\n",
    "while(n>0):\r\n",
    "    r=n%10\r\n",
    "    sum=sum+r**3\r\n",
    "    n//=10\r\n",
    "if(temp==sum):\r\n",
    "    print('armstrong number')\r\n",
    "else:\r\n",
    "    print('not armstrong number')\r\n"
   ],
   "outputs": [
    {
     "output_type": "stream",
     "name": "stdout",
     "text": [
      "armstrong number\n"
     ]
    }
   ],
   "metadata": {}
  },
  {
   "cell_type": "code",
   "execution_count": 11,
   "source": [
    "#factorial of a number\r\n",
    "a=int(input(\"enter a number\"))\r\n",
    "fact=1\r\n",
    "for i in range(1,a+1):\r\n",
    "    fact*=i\r\n",
    "print(fact)"
   ],
   "outputs": [
    {
     "output_type": "stream",
     "name": "stdout",
     "text": [
      "40320\n"
     ]
    }
   ],
   "metadata": {}
  },
  {
   "cell_type": "code",
   "execution_count": null,
   "source": [],
   "outputs": [],
   "metadata": {}
  }
 ],
 "metadata": {
  "orig_nbformat": 4,
  "language_info": {
   "name": "python",
   "version": "3.9.5",
   "mimetype": "text/x-python",
   "codemirror_mode": {
    "name": "ipython",
    "version": 3
   },
   "pygments_lexer": "ipython3",
   "nbconvert_exporter": "python",
   "file_extension": ".py"
  },
  "kernelspec": {
   "name": "python3",
   "display_name": "Python 3.9.5 64-bit ('base': conda)"
  },
  "interpreter": {
   "hash": "8c63c973eb29959cc0debb1ef701d4912fea08d72b1260f54ba619b4ae2cb087"
  }
 },
 "nbformat": 4,
 "nbformat_minor": 2
}