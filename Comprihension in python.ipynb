{
 "cells": [
  {
   "cell_type": "markdown",
   "source": [],
   "metadata": {}
  },
  {
   "cell_type": "code",
   "execution_count": 9,
   "source": [
    "a_lot_of_numbers=[1,2,5,4,8,55,77,555,888,999,4444,4,5,5849,4848,48487,545,6548,48787,48887,81,448,818,1894,412]\r\n",
    "len(a_lot_of_numbers)"
   ],
   "outputs": [
    {
     "output_type": "execute_result",
     "data": {
      "text/plain": [
       "25"
      ]
     },
     "metadata": {},
     "execution_count": 9
    }
   ],
   "metadata": {}
  },
  {
   "cell_type": "markdown",
   "source": [],
   "metadata": {}
  },
  {
   "cell_type": "markdown",
   "source": [
    "## Basic python programmer version"
   ],
   "metadata": {}
  },
  {
   "cell_type": "code",
   "execution_count": 3,
   "source": [
    "output=[]\r\n",
    "for i in a_lot_of_numbers:\r\n",
    "    v=i+5\r\n",
    "    output.append(v)"
   ],
   "outputs": [],
   "metadata": {}
  },
  {
   "cell_type": "code",
   "execution_count": 4,
   "source": [
    "print(a_lot_of_numbers)\r\n",
    "print(output)"
   ],
   "outputs": [
    {
     "output_type": "stream",
     "name": "stdout",
     "text": [
      "[1, 2, 5, 4, 8, 55, 77, 555, 888, 999, 4444, 4, 5, 5849, 4848, 48487, 545, 6548, 48787, 48887, 81, 448, 818, 1894, 412]\n",
      "[6, 7, 10, 9, 13, 60, 82, 560, 893, 1004, 4449, 9, 10, 5854, 4853, 48492, 550, 6553, 48792, 48892, 86, 453, 823, 1899, 417]\n"
     ]
    }
   ],
   "metadata": {}
  },
  {
   "cell_type": "markdown",
   "source": [
    "## Basic version/ Pythonic version"
   ],
   "metadata": {}
  },
  {
   "cell_type": "code",
   "execution_count": 7,
   "source": [
    "output_v2=[i+5 for i in a_lot_of_numbers]"
   ],
   "outputs": [],
   "metadata": {}
  },
  {
   "cell_type": "code",
   "execution_count": 8,
   "source": [
    "print(a_lot_of_numbers)\r\n",
    "print(output)\r\n",
    "print(output_v2)"
   ],
   "outputs": [
    {
     "output_type": "stream",
     "name": "stdout",
     "text": [
      "[1, 2, 5, 4, 8, 55, 77, 555, 888, 999, 4444, 4, 5, 5849, 4848, 48487, 545, 6548, 48787, 48887, 81, 448, 818, 1894, 412]\n",
      "[6, 7, 10, 9, 13, 60, 82, 560, 893, 1004, 4449, 9, 10, 5854, 4853, 48492, 550, 6553, 48792, 48892, 86, 453, 823, 1899, 417]\n",
      "[6, 7, 10, 9, 13, 60, 82, 560, 893, 1004, 4449, 9, 10, 5854, 4853, 48492, 550, 6553, 48792, 48892, 86, 453, 823, 1899, 417]\n"
     ]
    }
   ],
   "metadata": {}
  },
  {
   "cell_type": "code",
   "execution_count": 7,
   "source": [
    "output_v2=[i+3 for i in a_lot_of_numbers]"
   ],
   "outputs": [
    {
     "output_type": "error",
     "ename": "NameError",
     "evalue": "name 'a_lot_of_numbers' is not defined",
     "traceback": [
      "\u001b[1;31m---------------------------------------------------------------------------\u001b[0m",
      "\u001b[1;31mNameError\u001b[0m                                 Traceback (most recent call last)",
      "Input \u001b[1;32mIn [7]\u001b[0m, in \u001b[0;36m<cell line: 1>\u001b[1;34m()\u001b[0m\n\u001b[1;32m----> 1\u001b[0m output_v2\u001b[38;5;241m=\u001b[39m[i\u001b[38;5;241m+\u001b[39m\u001b[38;5;241m3\u001b[39m \u001b[38;5;28;01mfor\u001b[39;00m i \u001b[38;5;129;01min\u001b[39;00m \u001b[43ma_lot_of_numbers\u001b[49m]\n",
      "\u001b[1;31mNameError\u001b[0m: name 'a_lot_of_numbers' is not defined"
     ]
    }
   ],
   "metadata": {}
  },
  {
   "cell_type": "code",
   "execution_count": 10,
   "source": [
    "print(output_v2)"
   ],
   "outputs": [
    {
     "output_type": "stream",
     "name": "stdout",
     "text": [
      "[4, 5, 8, 7, 11, 58, 80, 558, 891, 1002, 4447, 7, 8, 5852, 4851, 48490, 548, 6551, 48790, 48890, 84, 451, 821, 1897, 415]\n"
     ]
    }
   ],
   "metadata": {}
  },
  {
   "cell_type": "markdown",
   "source": [
    "## TASK 2:- Non pythonic version"
   ],
   "metadata": {}
  },
  {
   "cell_type": "code",
   "execution_count": 10,
   "source": [
    "out3=[]\r\n",
    "for i in a_lot_of_numbers:\r\n",
    "    if i % 3==0:\r\n",
    "        out3.append(i)"
   ],
   "outputs": [],
   "metadata": {}
  },
  {
   "cell_type": "code",
   "execution_count": 11,
   "source": [
    "print(out3)"
   ],
   "outputs": [
    {
     "output_type": "stream",
     "name": "stdout",
     "text": [
      "[555, 888, 999, 4848, 81]\n"
     ]
    }
   ],
   "metadata": {}
  },
  {
   "cell_type": "markdown",
   "source": [
    "## Pythonic version"
   ],
   "metadata": {}
  },
  {
   "cell_type": "code",
   "execution_count": 16,
   "source": [
    "out3_v2=[i for i in a_lot_of_numbers if i%3==0]\r\n"
   ],
   "outputs": [],
   "metadata": {}
  },
  {
   "cell_type": "code",
   "execution_count": 17,
   "source": [
    "print(out3_v2)"
   ],
   "outputs": [
    {
     "output_type": "stream",
     "name": "stdout",
     "text": [
      "[555, 888, 999, 4848, 81]\n"
     ]
    }
   ],
   "metadata": {}
  },
  {
   "cell_type": "markdown",
   "source": [
    "## task3:- all 10 to all numbers that are divisble by 2 and give a new list"
   ],
   "metadata": {}
  },
  {
   "cell_type": "code",
   "execution_count": 19,
   "source": [
    "allnum=[i+10 for i in a_lot_of_numbers if i%2==0]"
   ],
   "outputs": [],
   "metadata": {}
  },
  {
   "cell_type": "code",
   "execution_count": 21,
   "source": [
    "print(a_lot_of_numbers)\r\n",
    "print(allnum)"
   ],
   "outputs": [
    {
     "output_type": "stream",
     "name": "stdout",
     "text": [
      "[1, 2, 5, 4, 8, 55, 77, 555, 888, 999, 4444, 4, 5, 5849, 4848, 48487, 545, 6548, 48787, 48887, 81, 448, 818, 1894, 412]\n",
      "[12, 14, 18, 898, 4454, 14, 4858, 6558, 458, 828, 1904, 422]\n"
     ]
    }
   ],
   "metadata": {}
  },
  {
   "cell_type": "code",
   "execution_count": 22,
   "source": [
    "x={1,2,3,4,5,6,7,8,9}\r\n"
   ],
   "outputs": [],
   "metadata": {}
  },
  {
   "cell_type": "code",
   "execution_count": 23,
   "source": [
    "x2={i**2 for i in x}\r\n",
    "print(x)\r\n",
    "print(x2)"
   ],
   "outputs": [
    {
     "output_type": "stream",
     "name": "stdout",
     "text": [
      "{1, 2, 3, 4, 5, 6, 7, 8, 9}\n",
      "{64, 1, 4, 36, 9, 16, 49, 81, 25}\n"
     ]
    }
   ],
   "metadata": {}
  },
  {
   "cell_type": "markdown",
   "source": [
    "# create a dictionary using comprehension"
   ],
   "metadata": {}
  },
  {
   "cell_type": "code",
   "execution_count": 24,
   "source": [
    "data={i:i+10 for i in a_lot_of_numbers}\r\n",
    "print(data)"
   ],
   "outputs": [
    {
     "output_type": "stream",
     "name": "stdout",
     "text": [
      "{1: 11, 2: 12, 5: 15, 4: 14, 8: 18, 55: 65, 77: 87, 555: 565, 888: 898, 999: 1009, 4444: 4454, 5849: 5859, 4848: 4858, 48487: 48497, 545: 555, 6548: 6558, 48787: 48797, 48887: 48897, 81: 91, 448: 458, 818: 828, 1894: 1904, 412: 422}\n"
     ]
    }
   ],
   "metadata": {}
  },
  {
   "cell_type": "code",
   "execution_count": null,
   "source": [],
   "outputs": [],
   "metadata": {}
  },
  {
   "cell_type": "code",
   "execution_count": null,
   "source": [],
   "outputs": [],
   "metadata": {}
  }
 ],
 "metadata": {
  "orig_nbformat": 4,
  "language_info": {
   "name": "python",
   "version": "3.9.5",
   "mimetype": "text/x-python",
   "codemirror_mode": {
    "name": "ipython",
    "version": 3
   },
   "pygments_lexer": "ipython3",
   "nbconvert_exporter": "python",
   "file_extension": ".py"
  },
  "kernelspec": {
   "name": "python3",
   "display_name": "Python 3.9.5 64-bit ('base': conda)"
  },
  "interpreter": {
   "hash": "8c63c973eb29959cc0debb1ef701d4912fea08d72b1260f54ba619b4ae2cb087"
  }
 },
 "nbformat": 4,
 "nbformat_minor": 2
}